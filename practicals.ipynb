{
 "cells": [
  {
   "cell_type": "code",
   "execution_count": null,
   "id": "f91adb1d-5f5e-40b9-9319-82c1becd9643",
   "metadata": {},
   "outputs": [],
   "source": [
    "# 1. Write a Python function that takes a list of numbers as input and returns the sum of all even numbers in the list. "
   ]
  },
  {
   "cell_type": "code",
   "execution_count": 1,
   "id": "aa0a1457-ebc7-48e3-b017-7f5336824bc7",
   "metadata": {},
   "outputs": [
    {
     "data": {
      "text/plain": [
       "20"
      ]
     },
     "execution_count": 1,
     "metadata": {},
     "output_type": "execute_result"
    }
   ],
   "source": [
    "# Python function that takes a list of numbers as input and returns the sum of all even numbers in the list:\n",
    "def even(x):\n",
    "    s=[]\n",
    "    for i in x:\n",
    "        if i%2==0:\n",
    "            s.append(i)\n",
    "    return sum(s)\n",
    "\n",
    "even([1,2,3,4,5,6,7,8,9])"
   ]
  },
  {
   "cell_type": "code",
   "execution_count": null,
   "id": "a27d0fc3-48e9-43d8-8c5a-d46eb799d896",
   "metadata": {},
   "outputs": [],
   "source": [
    "# 2. Create a Python function that accepts a string and returns the reverse of that string. "
   ]
  },
  {
   "cell_type": "code",
   "execution_count": 2,
   "id": "035592a5-83fa-45ad-bc27-e244f357e0d9",
   "metadata": {},
   "outputs": [
    {
     "data": {
      "text/plain": [
       "'otoyk'"
      ]
     },
     "execution_count": 2,
     "metadata": {},
     "output_type": "execute_result"
    }
   ],
   "source": [
    "# Python function that accepts a string and returns the reverse of that string:\n",
    "def rev_str(x):\n",
    "    return x[::-1]\n",
    "rev_str('kyoto')"
   ]
  },
  {
   "cell_type": "code",
   "execution_count": null,
   "id": "1ee70c9b-7e24-4408-aec2-f32b08db00b3",
   "metadata": {},
   "outputs": [],
   "source": [
    "# 3. Implement a Python function that takes a list of integers and returns a new list containing the squares of each number."
   ]
  },
  {
   "cell_type": "code",
   "execution_count": 3,
   "id": "5fe73be1-85e5-475a-aedf-320ac99dad42",
   "metadata": {},
   "outputs": [
    {
     "name": "stdout",
     "output_type": "stream",
     "text": [
      "[1, 4, 9, 16, 36]\n"
     ]
    }
   ],
   "source": [
    "#  Python function that takes a list of integers and returns a new list containing the squares of each number:\n",
    "li=[1,2,3,4,6]\n",
    "sq=list(map(lambda x:x**2,li))\n",
    "print(sq)"
   ]
  },
  {
   "cell_type": "code",
   "execution_count": null,
   "id": "bac6d8f2-7211-4695-928c-44102b401f55",
   "metadata": {},
   "outputs": [],
   "source": [
    "# 4. Write a Python function that checks if a given number is prime or not from 1 to 200."
   ]
  },
  {
   "cell_type": "code",
   "execution_count": 1,
   "id": "883aa63d-34ec-4fb2-9629-52a2a1959142",
   "metadata": {},
   "outputs": [
    {
     "name": "stdout",
     "output_type": "stream",
     "text": [
      "1 is not a prime number.\n",
      "2 is a prime number.\n",
      "3 is a prime number.\n",
      "4 is not a prime number.\n",
      "5 is a prime number.\n",
      "6 is not a prime number.\n",
      "7 is a prime number.\n",
      "8 is not a prime number.\n",
      "9 is not a prime number.\n",
      "10 is not a prime number.\n",
      "11 is a prime number.\n",
      "12 is not a prime number.\n",
      "13 is a prime number.\n",
      "14 is not a prime number.\n",
      "15 is not a prime number.\n",
      "16 is not a prime number.\n",
      "17 is a prime number.\n",
      "18 is not a prime number.\n",
      "19 is a prime number.\n",
      "20 is not a prime number.\n",
      "21 is not a prime number.\n",
      "22 is not a prime number.\n",
      "23 is a prime number.\n",
      "24 is not a prime number.\n",
      "25 is not a prime number.\n",
      "26 is not a prime number.\n",
      "27 is not a prime number.\n",
      "28 is not a prime number.\n",
      "29 is a prime number.\n",
      "30 is not a prime number.\n",
      "31 is a prime number.\n",
      "32 is not a prime number.\n",
      "33 is not a prime number.\n",
      "34 is not a prime number.\n",
      "35 is not a prime number.\n",
      "36 is not a prime number.\n",
      "37 is a prime number.\n",
      "38 is not a prime number.\n",
      "39 is not a prime number.\n",
      "40 is not a prime number.\n",
      "41 is a prime number.\n",
      "42 is not a prime number.\n",
      "43 is a prime number.\n",
      "44 is not a prime number.\n",
      "45 is not a prime number.\n",
      "46 is not a prime number.\n",
      "47 is a prime number.\n",
      "48 is not a prime number.\n",
      "49 is not a prime number.\n",
      "50 is not a prime number.\n",
      "51 is not a prime number.\n",
      "52 is not a prime number.\n",
      "53 is a prime number.\n",
      "54 is not a prime number.\n",
      "55 is not a prime number.\n",
      "56 is not a prime number.\n",
      "57 is not a prime number.\n",
      "58 is not a prime number.\n",
      "59 is a prime number.\n",
      "60 is not a prime number.\n",
      "61 is a prime number.\n",
      "62 is not a prime number.\n",
      "63 is not a prime number.\n",
      "64 is not a prime number.\n",
      "65 is not a prime number.\n",
      "66 is not a prime number.\n",
      "67 is a prime number.\n",
      "68 is not a prime number.\n",
      "69 is not a prime number.\n",
      "70 is not a prime number.\n",
      "71 is a prime number.\n",
      "72 is not a prime number.\n",
      "73 is a prime number.\n",
      "74 is not a prime number.\n",
      "75 is not a prime number.\n",
      "76 is not a prime number.\n",
      "77 is not a prime number.\n",
      "78 is not a prime number.\n",
      "79 is a prime number.\n",
      "80 is not a prime number.\n",
      "81 is not a prime number.\n",
      "82 is not a prime number.\n",
      "83 is a prime number.\n",
      "84 is not a prime number.\n",
      "85 is not a prime number.\n",
      "86 is not a prime number.\n",
      "87 is not a prime number.\n",
      "88 is not a prime number.\n",
      "89 is a prime number.\n",
      "90 is not a prime number.\n",
      "91 is not a prime number.\n",
      "92 is not a prime number.\n",
      "93 is not a prime number.\n",
      "94 is not a prime number.\n",
      "95 is not a prime number.\n",
      "96 is not a prime number.\n",
      "97 is a prime number.\n",
      "98 is not a prime number.\n",
      "99 is not a prime number.\n",
      "100 is not a prime number.\n",
      "101 is a prime number.\n",
      "102 is not a prime number.\n",
      "103 is a prime number.\n",
      "104 is not a prime number.\n",
      "105 is not a prime number.\n",
      "106 is not a prime number.\n",
      "107 is a prime number.\n",
      "108 is not a prime number.\n",
      "109 is a prime number.\n",
      "110 is not a prime number.\n",
      "111 is not a prime number.\n",
      "112 is not a prime number.\n",
      "113 is a prime number.\n",
      "114 is not a prime number.\n",
      "115 is not a prime number.\n",
      "116 is not a prime number.\n",
      "117 is not a prime number.\n",
      "118 is not a prime number.\n",
      "119 is not a prime number.\n",
      "120 is not a prime number.\n",
      "121 is not a prime number.\n",
      "122 is not a prime number.\n",
      "123 is not a prime number.\n",
      "124 is not a prime number.\n",
      "125 is not a prime number.\n",
      "126 is not a prime number.\n",
      "127 is a prime number.\n",
      "128 is not a prime number.\n",
      "129 is not a prime number.\n",
      "130 is not a prime number.\n",
      "131 is a prime number.\n",
      "132 is not a prime number.\n",
      "133 is not a prime number.\n",
      "134 is not a prime number.\n",
      "135 is not a prime number.\n",
      "136 is not a prime number.\n",
      "137 is a prime number.\n",
      "138 is not a prime number.\n",
      "139 is a prime number.\n",
      "140 is not a prime number.\n",
      "141 is not a prime number.\n",
      "142 is not a prime number.\n",
      "143 is not a prime number.\n",
      "144 is not a prime number.\n",
      "145 is not a prime number.\n",
      "146 is not a prime number.\n",
      "147 is not a prime number.\n",
      "148 is not a prime number.\n",
      "149 is a prime number.\n",
      "150 is not a prime number.\n",
      "151 is a prime number.\n",
      "152 is not a prime number.\n",
      "153 is not a prime number.\n",
      "154 is not a prime number.\n",
      "155 is not a prime number.\n",
      "156 is not a prime number.\n",
      "157 is a prime number.\n",
      "158 is not a prime number.\n",
      "159 is not a prime number.\n",
      "160 is not a prime number.\n",
      "161 is not a prime number.\n",
      "162 is not a prime number.\n",
      "163 is a prime number.\n",
      "164 is not a prime number.\n",
      "165 is not a prime number.\n",
      "166 is not a prime number.\n",
      "167 is a prime number.\n",
      "168 is not a prime number.\n",
      "169 is not a prime number.\n",
      "170 is not a prime number.\n",
      "171 is not a prime number.\n",
      "172 is not a prime number.\n",
      "173 is a prime number.\n",
      "174 is not a prime number.\n",
      "175 is not a prime number.\n",
      "176 is not a prime number.\n",
      "177 is not a prime number.\n",
      "178 is not a prime number.\n",
      "179 is a prime number.\n",
      "180 is not a prime number.\n",
      "181 is a prime number.\n",
      "182 is not a prime number.\n",
      "183 is not a prime number.\n",
      "184 is not a prime number.\n",
      "185 is not a prime number.\n",
      "186 is not a prime number.\n",
      "187 is not a prime number.\n",
      "188 is not a prime number.\n",
      "189 is not a prime number.\n",
      "190 is not a prime number.\n",
      "191 is a prime number.\n",
      "192 is not a prime number.\n",
      "193 is a prime number.\n",
      "194 is not a prime number.\n",
      "195 is not a prime number.\n",
      "196 is not a prime number.\n",
      "197 is a prime number.\n",
      "198 is not a prime number.\n",
      "199 is a prime number.\n",
      "200 is not a prime number.\n"
     ]
    }
   ],
   "source": [
    "# Python function that checks if a given number is prime or not from 1 to 200:\n",
    "def is_prime(n):\n",
    "    \"\"\"Check if a number is prime.\"\"\"\n",
    "    if n <= 1:\n",
    "        return False\n",
    "    elif n == 2:\n",
    "        return True\n",
    "    elif n % 2 == 0:\n",
    "        return False\n",
    "    for i in range(3, int(n**0.5) + 1, 2):\n",
    "        if n % i == 0:\n",
    "            return False\n",
    "    return True\n",
    "\n",
    "# Check if a number is prime from 1 to 200\n",
    "for num in range(1, 201):\n",
    "    if is_prime(num):\n",
    "        print(f\"{num} is a prime number.\")\n",
    "    else:\n",
    "        print(f\"{num} is not a prime number.\")"
   ]
  },
  {
   "cell_type": "code",
   "execution_count": null,
   "id": "d2c59b17-f484-47a4-82cf-4df9553b0155",
   "metadata": {},
   "outputs": [],
   "source": [
    "# 5. Create an iterator class in Python that generates the Fibonacci sequence up to a specified number of terms. "
   ]
  },
  {
   "cell_type": "code",
   "execution_count": 9,
   "id": "7b53f08d-571f-423b-8f4a-822aece143b3",
   "metadata": {},
   "outputs": [
    {
     "name": "stdout",
     "output_type": "stream",
     "text": [
      "[0, 1, 1, 2, 3, 5, 8, 13, 21, 34]\n"
     ]
    }
   ],
   "source": [
    "# an iterator class in Python that generates the Fibonacci sequence up to a specified number of terms:\n",
    "class Fib:\n",
    "    def __init__(self, n):\n",
    "        self.n = n\n",
    "    \n",
    "    def fib(self, n):\n",
    "        if n <= 1:\n",
    "            return n\n",
    "        else:\n",
    "            return self.fib(n-1) + self.fib(n-2)\n",
    "    \n",
    "    def get_fib_sequence(self):\n",
    "        return [self.fib(i) for i in range(self.n)]\n",
    "\n",
    "# Example Usage:\n",
    "fibonacci = Fib(10)  # Calculate first 10 Fibonacci numbers\n",
    "print(fibonacci.get_fib_sequence())"
   ]
  },
  {
   "cell_type": "code",
   "execution_count": null,
   "id": "0ad753ea-8731-496c-ada9-a7953579579e",
   "metadata": {},
   "outputs": [],
   "source": [
    "# 6. Write a generator function in Python that yields the powers of 2 up to a given exponent."
   ]
  },
  {
   "cell_type": "code",
   "execution_count": 8,
   "id": "1b550ef0-05c7-4924-8825-b44e74bfba8b",
   "metadata": {},
   "outputs": [
    {
     "data": {
      "text/plain": [
       "16"
      ]
     },
     "execution_count": 8,
     "metadata": {},
     "output_type": "execute_result"
    }
   ],
   "source": [
    "# a generator function in Python that yields the powers of 2 up to a given exponent:\n",
    "def power(x):\n",
    "    for i in range(x+1):\n",
    "        yield 2**i\n",
    "        \n",
    "p=power(4)        \n",
    "next(p)\n",
    "next(p)\n",
    "next(p)\n",
    "next(p)\n",
    "next(p)"
   ]
  },
  {
   "cell_type": "code",
   "execution_count": 1,
   "id": "78b51e90-7587-4f2e-9c99-b5f1cf7ba7bb",
   "metadata": {},
   "outputs": [],
   "source": [
    "# 7. Implement a generator function that reads a file line by line and yields each line as a string."
   ]
  },
  {
   "cell_type": "code",
   "execution_count": 4,
   "id": "4326d875-51a9-4f48-9789-fc538131f38a",
   "metadata": {},
   "outputs": [
    {
     "data": {
      "text/plain": [
       "'i am a boy'"
      ]
     },
     "execution_count": 4,
     "metadata": {},
     "output_type": "execute_result"
    }
   ],
   "source": [
    "# a generator function that reads a file line by line and yields each line as a string:\n",
    "def file(x):\n",
    "    for i in x:\n",
    "        yield i\n",
    "# execution\n",
    "ex=file(['i am a boy','i like to code','i want to develop a game'])\n",
    "next(ex)"
   ]
  },
  {
   "cell_type": "code",
   "execution_count": 5,
   "id": "d0c1470c-0d81-44e4-b0cd-62fadc17d824",
   "metadata": {},
   "outputs": [
    {
     "data": {
      "text/plain": [
       "'i like to code'"
      ]
     },
     "execution_count": 5,
     "metadata": {},
     "output_type": "execute_result"
    }
   ],
   "source": [
    "next(ex)"
   ]
  },
  {
   "cell_type": "code",
   "execution_count": 6,
   "id": "8d41bc53-7a18-4ecc-9137-9b5138bb4ba1",
   "metadata": {},
   "outputs": [
    {
     "data": {
      "text/plain": [
       "'i want to develop a game'"
      ]
     },
     "execution_count": 6,
     "metadata": {},
     "output_type": "execute_result"
    }
   ],
   "source": [
    "next(ex)"
   ]
  },
  {
   "cell_type": "code",
   "execution_count": 7,
   "id": "22ff55e6-ee94-4778-b432-202995a40787",
   "metadata": {},
   "outputs": [],
   "source": [
    "# 8. Use a lambda function in Python to sort a list of tuples based on the second element of each tuple"
   ]
  },
  {
   "cell_type": "code",
   "execution_count": 8,
   "id": "6d509a56-3b29-4b05-b3e7-809c46664741",
   "metadata": {},
   "outputs": [
    {
     "name": "stdout",
     "output_type": "stream",
     "text": [
      "[(4, 1), (3, 2), (1, 3), (2, 5)]\n"
     ]
    }
   ],
   "source": [
    "# a lambda function in Python to sort a list of tuples based on the second element of each tuple:\n",
    "tuples_list = [(1, 3), (4, 1), (2, 5), (3, 2)]\n",
    "sorted_list = sorted(tuples_list, key=lambda x: x[1])\n",
    "print(sorted_list)"
   ]
  },
  {
   "cell_type": "code",
   "execution_count": null,
   "id": "0932b3bd-9325-4d66-a5e3-7d7692b668e6",
   "metadata": {},
   "outputs": [],
   "source": [
    "# 9. Write a Python program that uses \"map)' to convert a list of temperatures from Celsius to Fahrenheit. "
   ]
  },
  {
   "cell_type": "code",
   "execution_count": 9,
   "id": "3fa52d23-be3c-46f8-bc07-86a5035b6d4d",
   "metadata": {},
   "outputs": [
    {
     "data": {
      "text/plain": [
       "[89.6, 113.0, 104.0, 60.8, 26.6]"
      ]
     },
     "execution_count": 9,
     "metadata": {},
     "output_type": "execute_result"
    }
   ],
   "source": [
    "# a Python program that uses \"map)' to convert a list of temperatures from Celsius to Fahrenheit:\n",
    "cel=[32,45,40,16,-3]\n",
    "list(map(lambda x:x*1.8+32,cel))"
   ]
  },
  {
   "cell_type": "code",
   "execution_count": 10,
   "id": "64b81984-411c-4e67-859c-6f2869905768",
   "metadata": {},
   "outputs": [],
   "source": [
    "# 10. Create a Python program that uses 'filter)' to remove all the vowels from a given string."
   ]
  },
  {
   "cell_type": "code",
   "execution_count": 13,
   "id": "8e59e58a-1e1e-4228-989c-48b2a333126c",
   "metadata": {},
   "outputs": [
    {
     "data": {
      "text/plain": [
       "['N', 'h', 'd']"
      ]
     },
     "execution_count": 13,
     "metadata": {},
     "output_type": "execute_result"
    }
   ],
   "source": [
    "# a Python program that uses 'filter)' to remove all the vowels from a given string.\n",
    "name='Nahida'\n",
    "def without_vowel(x):\n",
    "    a=['a','e','i','o','u','A','E','I','O','U']\n",
    "    for i in a:\n",
    "        if i in x:\n",
    "            x=x.replace(i,'')\n",
    "    return x    \n",
    "list(filter(without_vowel,name))"
   ]
  },
  {
   "cell_type": "code",
   "execution_count": null,
   "id": "d2c8ea9e-b9c8-4775-9196-9dc58bc5bcc8",
   "metadata": {},
   "outputs": [],
   "source": [
    "# 11. magine an accounting routine used in a book shop. It works on a list with sublists, which look like this: \n",
    "# Order Number      Book Title and Author             Quantity       Price per Item\n",
    "#   34587           Learning Python, Mark Lutz           4               40.95\n",
    "#   98762           Programming Python, Mark Lutz        5               56.80\n",
    "#   77226           Head First Python, Paul Barry        3               32.95\n",
    "#   88112           Einführung in Python3, Bernd Klein   3               24.99\n",
    "# Write a Python program, which returns a list with 2-tuples. Each tuple consists of the order number and the product of the price per item and the \n",
    "# quantity. The product should be increased by 10,- € if the value of the order is smaller than 100,00 €. Write a Python program using lambda and map"
   ]
  },
  {
   "cell_type": "code",
   "execution_count": 14,
   "id": "ec6b85f5-6549-45d3-b0bf-289276796a7f",
   "metadata": {},
   "outputs": [
    {
     "name": "stdout",
     "output_type": "stream",
     "text": [
      "[(34587, 163.8), (98762, 284.0), (77226, 42.95), (88112, 84.97)]\n"
     ]
    }
   ],
   "source": [
    "# solution:\n",
    "orders = [\n",
    "    [34587, \"Learning Python, Mark Lutz\", 4, 40.95],\n",
    "    [98762, \"Programming Python, Mark Lutz\", 5, 56.80],\n",
    "    [77226, \"Head First Python, Paul Barry\", 1, 32.95],\n",
    "    [88112, \"Einführung in Python3, Bernd Klein\", 3, 24.99]\n",
    "]\n",
    "def compute_total(order):\n",
    "    order_number, _, quantity, price_per_item = order\n",
    "    total_price = quantity * price_per_item\n",
    "    if total_price < 100:\n",
    "        total_price += 10\n",
    "    return (order_number, total_price)\n",
    "result = list(map(compute_total, orders))\n",
    "\n",
    "print(result)"
   ]
  },
  {
   "cell_type": "code",
   "execution_count": null,
   "id": "5f7be005-fa90-4c09-b4fa-ac9b4b757e0f",
   "metadata": {},
   "outputs": [],
   "source": []
  }
 ],
 "metadata": {
  "kernelspec": {
   "display_name": "Python 3 (ipykernel)",
   "language": "python",
   "name": "python3"
  },
  "language_info": {
   "codemirror_mode": {
    "name": "ipython",
    "version": 3
   },
   "file_extension": ".py",
   "mimetype": "text/x-python",
   "name": "python",
   "nbconvert_exporter": "python",
   "pygments_lexer": "ipython3",
   "version": "3.10.8"
  }
 },
 "nbformat": 4,
 "nbformat_minor": 5
}
